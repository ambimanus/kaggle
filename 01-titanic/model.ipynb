{
 "cells": [
  {
   "cell_type": "code",
   "execution_count": 1,
   "metadata": {
    "collapsed": false
   },
   "outputs": [],
   "source": [
    "import pandas as pd\n",
    "import numpy as np\n",
    "from sklearn.ensemble import RandomForestClassifier\n",
    "\n",
    "\n",
    "def read_and_clean(filename):\n",
    "    df = pd.read_csv(filename, header=0)\n",
    "    # Embarked: Fill NaN with most common value (here: 'S')\n",
    "    embarked_fill = df['Embarked'].value_counts().index[0]\n",
    "    df['Embarked'] = df['Embarked'].fillna(embarked_fill)\n",
    "    # Embarked: Convert to numerical value\n",
    "    df['Embarked'] = df['Embarked'].map({'C': 0, 'S': 1, 'Q': 2}).astype(int)\n",
    "    # Same for Sex:\n",
    "    df['Sex'] = df['Sex'].map({'female': 0, 'male': 1}).astype(int)\n",
    "    # Age: Fill NaN with median age in each PClass with respect to Sex:\n",
    "    # TODO: Include title information from Name as indicator for child/grown-up\n",
    "    for sex in range(2):\n",
    "        for pclass in range(1, 4):\n",
    "            df.loc[(df['Age'].isnull()) &\n",
    "                   (df['Sex'] == sex) &\n",
    "                   (df['Pclass'] == pclass), 'Age'] = \\\n",
    "                df[(df['Sex'] == sex) &\n",
    "                   (df['Pclass'] == pclass)]['Age'].dropna().median()\n",
    "    # Similar for Fare, but also including Embarked:\n",
    "    # TODO: Should also include binned age\n",
    "    for sex in range(2):\n",
    "        for pclass in range(1, 4):\n",
    "            for embarked in range(3):\n",
    "                df.loc[(df['Fare'].isnull()) &\n",
    "                       (df['Sex'] == sex) &\n",
    "                       (df['Pclass'] == pclass) &\n",
    "                       (df['Embarked'] == embarked), 'Fare'] = \\\n",
    "                    df[(df['Sex'] == sex) &\n",
    "                       (df['Pclass'] == pclass) &\n",
    "                       (df['Embarked'] == embarked)]['Fare'].dropna().median()\n",
    "    # TODO: Convert Age to categorical values\n",
    "    # print df['Age'].value_counts(dropna=False)\n",
    "    # print df['Age'].value_counts(bins=10, sort=False)\n",
    "    # TODO: Create categorical 'Title' variable derived from Name\n",
    "    # Drop non-numeric, non-categorical data\n",
    "    df = df.drop(['Name', 'Ticket', 'Cabin'], axis=1)\n",
    "    # Extract passenger ids\n",
    "    ids = df['PassengerId'].values\n",
    "    df = df.drop('PassengerId', axis=1)\n",
    "    return df, ids"
   ]
  },
  {
   "cell_type": "code",
   "execution_count": 2,
   "metadata": {
    "collapsed": false
   },
   "outputs": [
    {
     "name": "stdout",
     "output_type": "stream",
     "text": [
      "<class 'pandas.core.frame.DataFrame'>\n",
      "Int64Index: 891 entries, 0 to 890\n",
      "Data columns (total 8 columns):\n",
      "Survived    891 non-null int64\n",
      "Pclass      891 non-null int64\n",
      "Sex         891 non-null int64\n",
      "Age         891 non-null float64\n",
      "SibSp       891 non-null int64\n",
      "Parch       891 non-null int64\n",
      "Fare        891 non-null float64\n",
      "Embarked    891 non-null int64\n",
      "dtypes: float64(2), int64(6)\n",
      "memory usage: 62.6 KB\n"
     ]
    }
   ],
   "source": [
    "# Training data\n",
    "df_train, _ = read_and_clean('train.csv')\n",
    "df_train.info()\n",
    "train = df_train.values\n",
    "forest = RandomForestClassifier(n_estimators=100)\n",
    "fit = forest.fit(train[:, 1:], train[:, 0])"
   ]
  },
  {
   "cell_type": "code",
   "execution_count": 3,
   "metadata": {
    "collapsed": false
   },
   "outputs": [
    {
     "name": "stdout",
     "output_type": "stream",
     "text": [
      "<class 'pandas.core.frame.DataFrame'>\n",
      "Int64Index: 418 entries, 0 to 417\n",
      "Data columns (total 7 columns):\n",
      "Pclass      418 non-null int64\n",
      "Sex         418 non-null int64\n",
      "Age         418 non-null float64\n",
      "SibSp       418 non-null int64\n",
      "Parch       418 non-null int64\n",
      "Fare        418 non-null float64\n",
      "Embarked    418 non-null int64\n",
      "dtypes: float64(2), int64(5)\n",
      "memory usage: 26.1 KB\n"
     ]
    }
   ],
   "source": [
    "# Test data\n",
    "df_test, ids = read_and_clean('test.csv')\n",
    "df_test.info()"
   ]
  },
  {
   "cell_type": "code",
   "execution_count": 4,
   "metadata": {
    "collapsed": true
   },
   "outputs": [],
   "source": [
    "# Prediction\n",
    "prediction = np.array(fit.predict(df_test.values), dtype=int)\n",
    "out = np.stack((np.array(ids, dtype=int), prediction), axis=-1)\n",
    "np.savetxt('prediction.csv', out, fmt='%d', delimiter=',',\n",
    "           header='PassengerId,Survived', comments='')"
   ]
  }
 ],
 "metadata": {
  "kernelspec": {
   "display_name": "Python 2",
   "language": "python",
   "name": "python2"
  },
  "language_info": {
   "codemirror_mode": {
    "name": "ipython",
    "version": 2
   },
   "file_extension": ".py",
   "mimetype": "text/x-python",
   "name": "python",
   "nbconvert_exporter": "python",
   "pygments_lexer": "ipython2",
   "version": "2.7.12"
  }
 },
 "nbformat": 4,
 "nbformat_minor": 1
}
